{
 "cells": [
  {
   "cell_type": "code",
   "execution_count": 1,
   "id": "b3905465",
   "metadata": {},
   "outputs": [
    {
     "name": "stdout",
     "output_type": "stream",
     "text": [
      "Collecting pytube3\n",
      "  Downloading pytube3-9.6.4-py3-none-any.whl (38 kB)\n",
      "Requirement already satisfied: typing-extensions in c:\\users\\dell\\anaconda3\\lib\\site-packages (from pytube3) (3.10.0.2)\n",
      "Installing collected packages: pytube3\n",
      "Successfully installed pytube3-9.6.4\n",
      "Note: you may need to restart the kernel to use updated packages.\n"
     ]
    }
   ],
   "source": [
    "pip install pytube3"
   ]
  },
  {
   "cell_type": "code",
   "execution_count": 2,
   "id": "2b0f3f38",
   "metadata": {},
   "outputs": [
    {
     "name": "stdout",
     "output_type": "stream",
     "text": [
      "Collecting pytube\n",
      "  Downloading pytube-15.0.0-py3-none-any.whl (57 kB)\n",
      "Installing collected packages: pytube\n",
      "Successfully installed pytube-15.0.0\n",
      "Note: you may need to restart the kernel to use updated packages.\n"
     ]
    }
   ],
   "source": [
    "pip install --upgrade pytube"
   ]
  },
  {
   "cell_type": "code",
   "execution_count": 3,
   "id": "865d2d0e",
   "metadata": {},
   "outputs": [],
   "source": [
    "from pytube import YouTube"
   ]
  },
  {
   "cell_type": "code",
   "execution_count": 4,
   "id": "7fd0b24f",
   "metadata": {},
   "outputs": [
    {
     "name": "stdout",
     "output_type": "stream",
     "text": [
      "Collecting yt-dlp\n",
      "Note: you may need to restart the kernel to use updated packages.  Downloading yt_dlp-2024.8.6-py3-none-any.whl (3.1 MB)\n",
      "Collecting urllib3<3,>=1.26.17\n",
      "  Downloading urllib3-2.2.2-py3-none-any.whl (121 kB)\n",
      "Collecting websockets>=12.0\n",
      "  Downloading websockets-13.0.1-cp39-cp39-win_amd64.whl (152 kB)\n",
      "Collecting mutagen\n",
      "  Downloading mutagen-1.47.0-py3-none-any.whl (194 kB)\n",
      "Collecting brotli\n",
      "  Downloading Brotli-1.1.0-cp39-cp39-win_amd64.whl (357 kB)\n"
     ]
    },
    {
     "name": "stderr",
     "output_type": "stream",
     "text": [
      "ERROR: pip's dependency resolver does not currently take into account all the packages that are installed. This behaviour is the source of the following dependency conflicts.\n",
      "conda-repo-cli 1.0.4 requires pathlib, which is not installed.\n",
      "anaconda-project 0.10.1 requires ruamel-yaml, which is not installed.\n"
     ]
    },
    {
     "name": "stdout",
     "output_type": "stream",
     "text": [
      "\n",
      "Requirement already satisfied: certifi in c:\\users\\dell\\anaconda3\\lib\\site-packages (from yt-dlp) (2021.10.8)\n",
      "Collecting pycryptodomex\n",
      "  Downloading pycryptodomex-3.20.0-cp35-abi3-win_amd64.whl (1.8 MB)\n",
      "Collecting requests<3,>=2.32.2\n",
      "  Downloading requests-2.32.3-py3-none-any.whl (64 kB)\n",
      "Requirement already satisfied: idna<4,>=2.5 in c:\\users\\dell\\anaconda3\\lib\\site-packages (from requests<3,>=2.32.2->yt-dlp) (3.2)\n",
      "Requirement already satisfied: charset-normalizer<4,>=2 in c:\\users\\dell\\anaconda3\\lib\\site-packages (from requests<3,>=2.32.2->yt-dlp) (2.0.4)\n",
      "Installing collected packages: urllib3, websockets, requests, pycryptodomex, mutagen, brotli, yt-dlp\n",
      "  Attempting uninstall: urllib3\n",
      "    Found existing installation: urllib3 1.26.7\n",
      "    Uninstalling urllib3-1.26.7:\n",
      "      Successfully uninstalled urllib3-1.26.7\n",
      "  Attempting uninstall: requests\n",
      "    Found existing installation: requests 2.26.0\n",
      "    Uninstalling requests-2.26.0:\n",
      "      Successfully uninstalled requests-2.26.0\n",
      "Successfully installed brotli-1.1.0 mutagen-1.47.0 pycryptodomex-3.20.0 requests-2.32.3 urllib3-2.2.2 websockets-13.0.1 yt-dlp-2024.8.6\n"
     ]
    }
   ],
   "source": [
    "pip install yt-dlp"
   ]
  },
  {
   "cell_type": "code",
   "execution_count": 5,
   "id": "032bdbc5",
   "metadata": {},
   "outputs": [
    {
     "name": "stdout",
     "output_type": "stream",
     "text": [
      "Enter youtube videoyoutube.com/watch?v=eDN6fAWLNNE&t=5425s\n"
     ]
    }
   ],
   "source": [
    "link = input(\"Enter youtube video\")\n",
    "yt = YouTube(link)"
   ]
  },
  {
   "cell_type": "code",
   "execution_count": 6,
   "id": "1d76cf7a",
   "metadata": {},
   "outputs": [
    {
     "name": "stdout",
     "output_type": "stream",
     "text": [
      "Title: Generative AI for Build LLM Model Using Lama 3,Hugging Face & Ollama | NareshIT\n",
      "Views: 2476\n",
      "Duration: 8456\n",
      "Description: None\n",
      "Ratings: None\n"
     ]
    }
   ],
   "source": [
    "print(\"Title:\",yt.title)\n",
    "print(\"Views:\",yt.views)\n",
    "print(\"Duration:\",yt.length)\n",
    "print(\"Description:\",yt.description)\n",
    "print(\"Ratings:\",yt.rating)"
   ]
  },
  {
   "cell_type": "code",
   "execution_count": 7,
   "id": "8cd27eb9",
   "metadata": {},
   "outputs": [
    {
     "name": "stdout",
     "output_type": "stream",
     "text": [
      "Do you want to download this video? (yes/no): yes\n",
      "Downloading...\n",
      "[youtube] Extracting URL: https://www.youtube.com/watch?v=eDN6fAWLNNE&t=5432s\n",
      "[youtube] eDN6fAWLNNE: Downloading webpage\n",
      "[youtube] eDN6fAWLNNE: Downloading ios player API JSON\n",
      "[youtube] eDN6fAWLNNE: Downloading web creator player API JSON\n",
      "[youtube] eDN6fAWLNNE: Downloading player 3abab6ef\n",
      "[youtube] eDN6fAWLNNE: Downloading m3u8 information\n",
      "[info] eDN6fAWLNNE: Downloading 1 format(s): 18\n",
      "[download] Destination: Generative AI for Build LLM Model Using Lama 3,Hugging Face & Ollama ｜ NareshIT [eDN6fAWLNNE].mp4\n",
      "[download] 100% of  190.53MiB in 00:00:51 at 3.69MiB/s     \n",
      "Download completed.\n"
     ]
    }
   ],
   "source": [
    "from yt_dlp import YoutubeDL\n",
    "\n",
    "download_option = input(\"Do you want to download this video? (yes/no): \").lower()\n",
    "if download_option == \"yes\":\n",
    "    url = 'https://www.youtube.com/watch?v=eDN6fAWLNNE&t=5432s'\n",
    "    ydl_opts = {'format': 'best'}\n",
    "    with YoutubeDL (ydl_opts) as ydl:\n",
    "        print(\"Downloading...\")\n",
    "        ydl.download([url])\n",
    "        print(\"Download completed.\")\n",
    "else:        \n",
    "     print(\"Download aborted.\")"
   ]
  },
  {
   "cell_type": "code",
   "execution_count": 8,
   "id": "7721710c",
   "metadata": {},
   "outputs": [
    {
     "data": {
      "text/plain": [
       "'C:\\\\Users\\\\dell'"
      ]
     },
     "execution_count": 8,
     "metadata": {},
     "output_type": "execute_result"
    }
   ],
   "source": [
    "import os\n",
    "os.getcwd()"
   ]
  },
  {
   "cell_type": "code",
   "execution_count": null,
   "id": "261c1480",
   "metadata": {},
   "outputs": [],
   "source": []
  }
 ],
 "metadata": {
  "kernelspec": {
   "display_name": "Python 3 (ipykernel)",
   "language": "python",
   "name": "python3"
  },
  "language_info": {
   "codemirror_mode": {
    "name": "ipython",
    "version": 3
   },
   "file_extension": ".py",
   "mimetype": "text/x-python",
   "name": "python",
   "nbconvert_exporter": "python",
   "pygments_lexer": "ipython3",
   "version": "3.9.7"
  }
 },
 "nbformat": 4,
 "nbformat_minor": 5
}
